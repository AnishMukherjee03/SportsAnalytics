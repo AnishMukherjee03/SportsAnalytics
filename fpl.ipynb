{
 "metadata": {
  "language_info": {
   "codemirror_mode": {
    "name": "ipython",
    "version": 3
   },
   "file_extension": ".py",
   "mimetype": "text/x-python",
   "name": "python",
   "nbconvert_exporter": "python",
   "pygments_lexer": "ipython3",
   "version": "3.8.3-final"
  },
  "orig_nbformat": 2,
  "kernelspec": {
   "name": "Python 3.8.3 64-bit ('base': conda)",
   "display_name": "Python 3.8.3 64-bit ('base': conda)",
   "metadata": {
    "interpreter": {
     "hash": "7a209c7668db81c38e446e162d44e70183c68b24c375ad0a2e86d9fd56084cc7"
    }
   }
  }
 },
 "nbformat": 4,
 "nbformat_minor": 2,
 "cells": [
  {
   "source": [
    "<h2>2019-20 SEASON ANALYSIS</h2>\n",
    "<p> I'm going to start off by analysing the data for 2019-20 season first as a starting point. Later on I will be adding more previous year analyses to this project.</p>"
   ],
   "cell_type": "markdown",
   "metadata": {}
  },
  {
   "cell_type": "code",
   "execution_count": 1,
   "metadata": {},
   "outputs": [],
   "source": [
    "import numpy as np \n",
    "import pandas as pd "
   ]
  },
  {
   "cell_type": "code",
   "execution_count": 2,
   "metadata": {},
   "outputs": [
    {
     "output_type": "execute_result",
     "data": {
      "text/plain": [
       "Index(['assists', 'bonus', 'bps', 'chance_of_playing_next_round',\n",
       "       'chance_of_playing_this_round', 'clean_sheets', 'code',\n",
       "       'cost_change_event', 'cost_change_event_fall', 'cost_change_start',\n",
       "       'cost_change_start_fall', 'creativity', 'creativity_rank',\n",
       "       'creativity_rank_type', 'dreamteam_count', 'element_type', 'ep_next',\n",
       "       'ep_this', 'event_points', 'first_name', 'form', 'goals_conceded',\n",
       "       'goals_scored', 'ict_index', 'ict_index_rank', 'ict_index_rank_type',\n",
       "       'id', 'in_dreamteam', 'influence', 'influence_rank',\n",
       "       'influence_rank_type', 'minutes', 'news', 'news_added', 'now_cost',\n",
       "       'own_goals', 'penalties_missed', 'penalties_saved', 'photo',\n",
       "       'points_per_game', 'red_cards', 'saves', 'second_name',\n",
       "       'selected_by_percent', 'special', 'squad_number', 'status', 'team',\n",
       "       'team_code', 'threat', 'threat_rank', 'threat_rank_type',\n",
       "       'total_points', 'transfers_in', 'transfers_in_event', 'transfers_out',\n",
       "       'transfers_out_event', 'value_form', 'value_season', 'yellow_cards'],\n",
       "      dtype='object')"
      ]
     },
     "metadata": {},
     "execution_count": 2
    }
   ],
   "source": [
    "df_1920=pd.read_csv(\"players_raw1920.csv\",index_col=\"web_name\")\n",
    "df_1920.columns"
   ]
  },
  {
   "source": [
    "We're trying to maximize our Fantasy points return per fantasy dollar spent. So let's first see the fantasy point returns of each team per fantasy dollar spent. I'm hoping this analysis to bring up high returning teams which are often ignored/dismissed as underdogs because they're not counted among the big clubs."
   ],
   "cell_type": "markdown",
   "metadata": {}
  },
  {
   "cell_type": "code",
   "execution_count": 3,
   "metadata": {},
   "outputs": [
    {
     "output_type": "stream",
     "name": "stdout",
     "text": [
      "team_code\n1     1752\n3     1580\n4     1512\n6     1547\n7     1357\n8     1687\n11    1444\n13    1816\n14    2101\n20    1429\n21    1433\n31    1333\n36    1389\n39    1655\n43    2100\n45    1140\n49    1594\n57    1334\n90    1544\n91    1265\nName: total_points, dtype: int64\n"
     ]
    }
   ],
   "source": [
    "team_points=df_1920.groupby(\"team_code\")[\"total_points\"].sum()\n",
    "print(team_points)"
   ]
  },
  {
   "cell_type": "code",
   "execution_count": 4,
   "metadata": {},
   "outputs": [
    {
     "output_type": "stream",
     "name": "stdout",
     "text": [
      "team_code\n1     190.6\n3     183.0\n4     172.8\n6     186.4\n7     146.3\n8     161.8\n11    164.0\n13    153.2\n14    176.1\n20    173.9\n21    181.1\n31    147.7\n36    150.4\n39    149.4\n43    173.9\n45    147.6\n49    139.4\n57    142.6\n90    155.7\n91    149.0\ndtype: float64\n"
     ]
    }
   ],
   "source": [
    "#can be optimized/condensed into smaller code\n",
    "now_cost=df_1920.groupby(\"team_code\")[\"now_cost\"].sum()\n",
    "cost_change=df_1920.groupby(\"team_code\")[\"cost_change_start_fall\"].sum()\n",
    "team_cost=(now_cost-cost_change)/10\n",
    "print(team_cost)"
   ]
  },
  {
   "cell_type": "code",
   "execution_count": 5,
   "metadata": {},
   "outputs": [
    {
     "output_type": "stream",
     "name": "stdout",
     "text": [
      "team_code\n43    12.075906\n14    11.930721\n13    11.853786\n49    11.434720\n39    11.077644\n8     10.426452\n90     9.916506\n57     9.354839\n7      9.275461\n36     9.235372\n1      9.192025\n31     9.025051\n11     8.804878\n4      8.750000\n3      8.633880\n91     8.489933\n6      8.299356\n20     8.217366\n21     7.912755\n45     7.723577\ndtype: float64\n"
     ]
    }
   ],
   "source": [
    "points_per_dollar=team_points/team_cost\n",
    "print(points_per_dollar.sort_values(ascending=False))"
   ]
  },
  {
   "source": [
    "Here's a list of the team codes:\n",
    "<li> 3- Arsenal</li>\n",
    "<li> 7- Aston Villa</li>\n",
    "<li>91- Bournemouth</li>\n",
    "<li>36- Brighton</li>\n",
    "<li>90- Burnley</li>\n",
    "<li> 8- Chelsea</li>\n",
    "<li>31- Crystal Palace</li>\n",
    "<li>11- Everton</li>\n",
    "<li>13- Leicester</li>\n",
    "<li>14- Liverpool</li>\n",
    "<li>43- Man City</li>\n",
    "<li> 1- Man United</li>\n",
    "<li> 4- New Castle</li>\n",
    "<li>45- Norwich</li>\n",
    "<li>49- Sheffield Utd</li>\n",
    "<li>20- Southampton</li>\n",
    "<li> 6- Spurs</li>\n",
    "<li>57- Watford</li>\n",
    "<li>21- West Ham</li>\n",
    "<li>39- Wolves</li>\n"
   ],
   "cell_type": "markdown",
   "metadata": {}
  },
  {
   "source": [
    "This data throws up quite interesting observations. Leicester and Sheffield United are among the top 4 clubs in terms of fantasy points earned per dollar spent. So it's quite a no-brainer that players from these squads should be included in our FPL 11. Man United and Tottenham are not so great in terms of fantasy point returns, despite them being popular big names and the average FPL player will definitely include expensive but low returning players from such clubs in their FPL team. Norwich, South Hampton and West Ham are the bottom 3 clubs in terms of their point returns. Norwich finishes last both in terms of point returns per dollar spent as well as in the EPL 19-20 standings."
   ],
   "cell_type": "markdown",
   "metadata": {}
  },
  {
   "cell_type": "code",
   "execution_count": null,
   "metadata": {},
   "outputs": [],
   "source": []
  }
 ]
}