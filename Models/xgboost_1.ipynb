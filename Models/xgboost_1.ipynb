{
 "metadata": {
  "language_info": {
   "codemirror_mode": {
    "name": "ipython",
    "version": 3
   },
   "file_extension": ".py",
   "mimetype": "text/x-python",
   "name": "python",
   "nbconvert_exporter": "python",
   "pygments_lexer": "ipython3",
   "version": "3.8.3-final"
  },
  "orig_nbformat": 2,
  "kernelspec": {
   "name": "Python 3.8.3 64-bit ('base': conda)",
   "display_name": "Python 3.8.3 64-bit ('base': conda)",
   "metadata": {
    "interpreter": {
     "hash": "7a209c7668db81c38e446e162d44e70183c68b24c375ad0a2e86d9fd56084cc7"
    }
   }
  }
 },
 "nbformat": 4,
 "nbformat_minor": 2,
 "cells": [
  {
   "cell_type": "code",
   "execution_count": 1,
   "metadata": {
    "tags": []
   },
   "outputs": [
    {
     "output_type": "stream",
     "name": "stdout",
     "text": [
      "Requirement already satisfied: xgboost in c:\\users\\anish\\anaconda3\\lib\\site-packages (1.2.0)\nRequirement already satisfied: scipy in c:\\users\\anish\\anaconda3\\lib\\site-packages (from xgboost) (1.5.0)\nRequirement already satisfied: numpy in c:\\users\\anish\\anaconda3\\lib\\site-packages (from xgboost) (1.18.5)\n"
     ]
    }
   ],
   "source": [
    "import numpy as np\n",
    "import pandas as pd\n",
    "!pip3 install xgboost  \n",
    "import xgboost as xgb \n",
    "from xgboost.sklearn import XGBClassifier\n",
    "from sklearn.model_selection import train_test_split\n",
    "#from sklearn import cross\n",
    "from sklearn.model_selection import GridSearchCV\n",
    "import matplotlib.pyplot as plt "
   ]
  },
  {
   "cell_type": "code",
   "execution_count": 2,
   "metadata": {},
   "outputs": [],
   "source": [
    "from sklearn.datasets import load_boston\n",
    "boston=load_boston()\n",
    "X=boston.data \n",
    "y=boston.target \n",
    "X_train,X_test,y_train,y_test=train_test_split(X,y,test_size=0.2,random_state=42)"
   ]
  },
  {
   "cell_type": "code",
   "execution_count": 3,
   "metadata": {},
   "outputs": [],
   "source": [
    "def algorithm_pipeline(X_train_data,X_test_data,y_train_data,y_test_data,model,param_grid,cv=10,scoring_fit='neg_mean_squared_error',do_probabilities=False):\n",
    "    gs=GridSearchCV(\n",
    "        estimator=model,\n",
    "        param_grid=param_grid,\n",
    "        cv=cv,\n",
    "        n_jobs=-1,\n",
    "        scoring=scoring_fit,\n",
    "        verbose=2\n",
    "    )\n",
    "    fitted_model=gs.fit(X_train_data,y_train_data)\n",
    "    if do_probabilities:\n",
    "        pred=fitted_model.predict_proba(X_test_data)\n",
    "    else:\n",
    "        pred=fitted_model.predict(X_test_data)\n",
    "    return fitted_model,pred"
   ]
  },
  {
   "cell_type": "code",
   "execution_count": 4,
   "metadata": {
    "tags": []
   },
   "outputs": [
    {
     "output_type": "stream",
     "name": "stdout",
     "text": [
      "Fitting 5 folds for each of 324 candidates, totalling 1620 fits\n",
      "[Parallel(n_jobs=-1)]: Using backend LokyBackend with 8 concurrent workers.\n",
      "[Parallel(n_jobs=-1)]: Done  25 tasks      | elapsed:    6.7s\n",
      "[Parallel(n_jobs=-1)]: Done 146 tasks      | elapsed:   11.1s\n",
      "[Parallel(n_jobs=-1)]: Done 1003 tasks      | elapsed:   30.5s\n",
      "[Parallel(n_jobs=-1)]: Done 1620 out of 1620 | elapsed:   46.6s finished\n",
      "3.623800237584142\n",
      "{'colsample_bytree': 0.8, 'max_depth': 15, 'n_estimators': 400, 'reg_alpha': 1.3, 'reg_lambda': 1.3, 'subsample': 0.7}\n"
     ]
    }
   ],
   "source": [
    "model=xgb.XGBRegressor()\n",
    "param_grid={\n",
    "    'n_estimators':[400,700.1000],\n",
    "    'colsample_bytree':[0.7,0.8],\n",
    "    'max_depth':[15,20,25],\n",
    "    'reg_alpha':[1.1,1.2,1.3],\n",
    "    'reg_lambda':[1.1,1.2,1.3],\n",
    "    'subsample':[0.7,0.8,0.9]\n",
    "}\n",
    "model,pred=algorithm_pipeline(X_train,X_test,y_train,y_test,model,param_grid,cv=5)\n",
    "print(np.sqrt(-model.best_score_))\n",
    "print(model.best_params_)"
   ]
  },
  {
   "cell_type": "code",
   "execution_count": null,
   "metadata": {},
   "outputs": [],
   "source": []
  }
 ]
}